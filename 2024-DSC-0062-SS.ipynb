{
 "cells": [
  {
   "cell_type": "markdown",
   "id": "6ba29b63-dfe6-4ea0-847b-6276cf5ef916",
   "metadata": {},
   "source": [
    "## 2024/DSC/0062/SS"
   ]
  },
  {
   "cell_type": "markdown",
   "id": "28d2a6c6-9482-43ed-b47e-330e1547b08b",
   "metadata": {},
   "source": [
    "## No.1"
   ]
  },
  {
   "cell_type": "markdown",
   "id": "f34f060b-7af5-4653-bb28-e0c8650934b4",
   "metadata": {},
   "source": [
    "### Variation and variability"
   ]
  },
  {
   "cell_type": "code",
   "execution_count": 3,
   "id": "fc681a95-2e1f-453b-a59a-e52728baa9e0",
   "metadata": {},
   "outputs": [],
   "source": [
    "import pandas as pd"
   ]
  },
  {
   "cell_type": "code",
   "execution_count": 4,
   "id": "db3fc86d-6332-4521-9318-e2397aaba851",
   "metadata": {},
   "outputs": [],
   "source": [
    "import numpy as np"
   ]
  },
  {
   "cell_type": "code",
   "execution_count": 5,
   "id": "a2d1f1d2-36e4-4d8b-8613-c2b9ecdaac71",
   "metadata": {},
   "outputs": [],
   "source": [
    "# # Importing the excel data set\n",
    "# wages_cesus_df = pd.read_excel('Wages 2020Census cleaned.xlsx')\n",
    "# print(wages_cesus_df.head())"
   ]
  },
  {
   "cell_type": "code",
   "execution_count": 6,
   "id": "7a4d0844-c3bc-407a-b0e7-2a9e01353130",
   "metadata": {},
   "outputs": [
    {
     "name": "stdout",
     "output_type": "stream",
     "text": [
      "Requirement already satisfied: openpyxl in c:\\users\\hp\\appdata\\local\\programs\\python\\python312\\lib\\site-packages (3.1.5)\n",
      "Requirement already satisfied: et-xmlfile in c:\\users\\hp\\appdata\\local\\programs\\python\\python312\\lib\\site-packages (from openpyxl) (2.0.0)\n",
      "Note: you may need to restart the kernel to use updated packages.\n"
     ]
    }
   ],
   "source": [
    "pip install openpyxl "
   ]
  },
  {
   "cell_type": "code",
   "execution_count": 7,
   "id": "7f730b07-15b3-4184-a1ff-dd6e3d467b39",
   "metadata": {},
   "outputs": [
    {
     "name": "stdout",
     "output_type": "stream",
     "text": [
      "<class 'pandas.core.frame.DataFrame'>\n",
      "RangeIndex: 4365 entries, 0 to 4364\n",
      "Data columns (total 19 columns):\n",
      " #   Column                       Non-Null Count  Dtype \n",
      "---  ------                       --------------  ----- \n",
      " 0   Age                          4365 non-null   int64 \n",
      " 1   Sex                          4365 non-null   object\n",
      " 2   Marital_status               4365 non-null   object\n",
      " 3   Number_of_children           4365 non-null   object\n",
      " 4   Family_size                  4365 non-null   int64 \n",
      " 5   Education-degree_recode      4365 non-null   object\n",
      " 6   Education-degree_recode 2    4365 non-null   object\n",
      " 7   Education                    4365 non-null   object\n",
      " 8   Race_ethnicity-multi_recode  4365 non-null   object\n",
      " 9   Immigrate-year               4365 non-null   int64 \n",
      " 10  Birthplace_recode            4365 non-null   object\n",
      " 11  Speaks_English               4365 non-null   object\n",
      " 12  Employment_status            4365 non-null   object\n",
      " 13  Income-wages                 4365 non-null   int64 \n",
      " 14  Region_recode                4365 non-null   object\n",
      " 15  Region-division_recode       4365 non-null   object\n",
      " 16  Moved                        4365 non-null   object\n",
      " 17  Year                         4365 non-null   int64 \n",
      " 18  state                        4365 non-null   object\n",
      "dtypes: int64(5), object(14)\n",
      "memory usage: 648.1+ KB\n",
      "None\n"
     ]
    }
   ],
   "source": [
    "# ( source: Intro to Pandas notebook)\n",
    "\n",
    "# Importing the excel data set into the notebook.\n",
    "wages_census_df = pd.read_excel('Wages 2020Census cleaned.xlsx') \n",
    "\n",
    "# finding the summary of the data set\n",
    "print(wages_census_df.info()) "
   ]
  },
  {
   "cell_type": "markdown",
   "id": "2341f3e0-1c0c-45ec-a744-c49ecc00a5c0",
   "metadata": {},
   "source": [
    "## part (a)"
   ]
  },
  {
   "cell_type": "raw",
   "id": "6279e6bf-e35e-4083-8e84-01108f34cf31",
   "metadata": {},
   "source": [
    "What is a ’typical’ yearly income for these 4,365 people?.\n",
    "The question says typical which can be interpreted as the mean income, median income or mode income.\n",
    "So, I will find all of them"
   ]
  },
  {
   "cell_type": "code",
   "execution_count": 8,
   "id": "ea159730-8b9d-4763-8e5d-54ccd2e431d4",
   "metadata": {},
   "outputs": [
    {
     "name": "stdout",
     "output_type": "stream",
     "text": [
      "58704.16494845361\n"
     ]
    }
   ],
   "source": [
    "# Finding the mean income\n",
    "# Source: Intro to Pandas notebook\n",
    "mean_income = wages_census_df['Income-wages'].mean() \n",
    "print(mean_income)"
   ]
  },
  {
   "cell_type": "code",
   "execution_count": 9,
   "id": "4e095398-569a-4c1c-be2c-8f37199810d1",
   "metadata": {},
   "outputs": [
    {
     "name": "stdout",
     "output_type": "stream",
     "text": [
      "41000.0\n"
     ]
    }
   ],
   "source": [
    "# Finding the median income\n",
    "median_income = wages_census_df['Income-wages'].median()\n",
    "print(median_income)"
   ]
  },
  {
   "cell_type": "code",
   "execution_count": 10,
   "id": "00f52c5d-bd6b-410b-895a-43848b154a8f",
   "metadata": {},
   "outputs": [
    {
     "name": "stdout",
     "output_type": "stream",
     "text": [
      "0    40000\n",
      "Name: Income-wages, dtype: int64\n"
     ]
    }
   ],
   "source": [
    "# Finding the mode income\n",
    "mode_income = wages_census_df['Income-wages'].mode()\n",
    "print(mode_income)"
   ]
  },
  {
   "cell_type": "markdown",
   "id": "51096114-15ea-4a38-92ef-669490888880",
   "metadata": {},
   "source": [
    "### To determine typical yearly income, i have found the following statistics\n",
    "- The mean income is 58704 showing that, on average, individuals in this data set earn 58704 each year.\n",
    "- The median income was 41000, suggesting that half of the individuals earn less than 41000 and half earn more. "
   ]
  },
  {
   "cell_type": "markdown",
   "id": "c6cc254a-ffe1-45a9-a121-b6c5d946e182",
   "metadata": {},
   "source": [
    "## part (b)"
   ]
  },
  {
   "cell_type": "markdown",
   "id": "8404a557-990d-438e-92c3-6287600364ae",
   "metadata": {},
   "source": [
    " ### Do the yearly incomes of these 4,365 people vary?\n",
    "- I will be finding the standard deviation to see how income varies from mean. \n",
    "A high standard deviation indicates greater variability in income.\n",
    "- I will also work out the range of income. If The range is large, the variability is high."
   ]
  },
  {
   "cell_type": "code",
   "execution_count": 11,
   "id": "07eabc8b-1301-4d20-bcdb-0c43d0bc8487",
   "metadata": {},
   "outputs": [
    {
     "name": "stdout",
     "output_type": "stream",
     "text": [
      "68338.0614351565\n"
     ]
    }
   ],
   "source": [
    "# Finding the standard deviation\n",
    "income_std= wages_census_df['Income-wages'].std()\n",
    "print(income_std)"
   ]
  },
  {
   "cell_type": "code",
   "execution_count": 12,
   "id": "346b759f-b543-4d0c-8a98-b63867ebac1a",
   "metadata": {},
   "outputs": [
    {
     "name": "stdout",
     "output_type": "stream",
     "text": [
      "660970\n"
     ]
    }
   ],
   "source": [
    "# Finding the range. We will subtract maximum income and minimum income\n",
    "max_income = wages_census_df['Income-wages'].max() # finding maxmum income\n",
    "min_income = wages_census_df['Income-wages'].min() # finding minimum range\n",
    "\n",
    "range_of_income = max_income - min_income\n",
    "print(range_of_income)\n"
   ]
  },
  {
   "cell_type": "markdown",
   "id": "97bcd922-50b8-443a-8b34-1c758df5cdf5",
   "metadata": {},
   "source": [
    "- Since the standard deviation is high, the incomes vary greatly\n",
    "- The range is 660970 also showing that the income varies highly"
   ]
  },
  {
   "cell_type": "markdown",
   "id": "c97e01f2-b103-425e-8fa3-029ac42e25b3",
   "metadata": {},
   "source": [
    "## part (c)"
   ]
  },
  {
   "cell_type": "markdown",
   "id": "bfff0306-c7e0-4e63-a3bb-8c137c1db7ce",
   "metadata": {},
   "source": [
    "### What would the values of the standard deviation and IQR be if there was no variability in yearly income \n",
    "### for these 4,365 people?\n",
    "\n",
    "- If there were no variability in the yearly income of the 4,365 individuals, both the standard deviation and the interquartile range would be zero.\n",
    "- This would mean that all individuals have the same income."
   ]
  },
  {
   "cell_type": "markdown",
   "id": "ee8371f5-6984-4ab6-941f-f01faa88c0c9",
   "metadata": {},
   "source": [
    "## Part (d)"
   ]
  },
  {
   "cell_type": "markdown",
   "id": "d3d0b3f2-6920-4ccb-976b-81f5ee345206",
   "metadata": {},
   "source": [
    "###  What would the values of the mean, median, Q1, Q3, minimum and maximum yearly incomes be if there was no variability?\n",
    "- If there is no variability in a dataset, it means that all the values are identical.\n",
    "  \n",
    "- The mean is calculated by total sum over number of items.\n",
    "  If all individuals have the same income, the mean will equal that income value.\n",
    "\n",
    "- The median is the middle value when the data is sorted in ascending order.\n",
    "  If all values are the same, the median will also be equal to that income value.\n",
    "\n",
    "- Q1 is the value below which 25% of the data falls.\n",
    "  If there is no variability, since all values are the same, Q1 will equal that income value.\n",
    "\n",
    "- Q3 is the value below which 75% of the data falls.\n",
    "  Same as Q1, if there is no variability, Q3 will also equal that income value.\n",
    "\n",
    "- \tThe minimum is the smallest value in the dataset.\n",
    "  If all values are the same, the minimum will be that income value.\n",
    "\n",
    "- The maximum is the largest value in the dataset.\n",
    "  Again, if all values are the same, the maximum will also be that income value.\n",
    "\n",
    "  All the values are the same if there is no variability"
   ]
  },
  {
   "cell_type": "markdown",
   "id": "804825e3-7157-429f-90e4-879faa855be8",
   "metadata": {},
   "source": [
    "## Part (e)"
   ]
  },
  {
   "cell_type": "markdown",
   "id": "57777bd1-70c0-4c4e-89b9-495a823384d9",
   "metadata": {},
   "source": [
    "### What do you think are some possible causes or reasons or potential sources of the variability in the yearly incomes of these 4,365 people?\n",
    "(Hint: Perform bivariate analysis leveraging boxplots\n",
    "between response variable and education level, region of the US. Provide an explanation of your\n",
    "thinking with numerical support)"
   ]
  },
  {
   "cell_type": "code",
   "execution_count": 2,
   "id": "e00cb507-09aa-424b-ad91-399a7c0445ca",
   "metadata": {},
   "outputs": [],
   "source": [
    "import matplotlib.pyplot as plt # importing matplotlin library for plotting\n",
    "import seaborn as sns # importing seaborn library for plotting"
   ]
  },
  {
   "cell_type": "code",
   "execution_count": 14,
   "id": "9de13ee3-40c7-4957-95b9-e052aa8c0f01",
   "metadata": {
    "scrolled": true
   },
   "outputs": [
    {
     "data": {
      "text/plain": [
       "Text(0, 0.5, 'Income ')"
      ]
     },
     "execution_count": 14,
     "metadata": {},
     "output_type": "execute_result"
    },
    {
     "data": {
      "image/png": "[encoded data removed]",
      "text/plain": [
       "<Figure size 1600x1000 with 1 Axes>"
      ]
     },
     "metadata": {},
     "output_type": "display_data"
    }
   ],
   "source": [
    "plt.figure(figsize=(16, 10)) \n",
    "sns.boxplot(x='Education', y='Income-wages', data=wages_census_df)\n",
    "plt.title('Boxplot of Education and Income')\n",
    "plt.xlabel('Education Level')\n",
    "plt.ylabel('Income ')"
   ]
  },
  {
   "cell_type": "markdown",
   "id": "d85ad6e5-cf02-4cc9-adb1-dca0873ead40",
   "metadata": {},
   "source": [
    "- The difference in Education should be one of the causes of variability in the yearly income of the 4365 peaople\n",
    "\n",
    "- The income for individuals with a Master or PhD or professional degree (above 600,000) is higher than for those with only a high school diploma or no HS diploma(less than 500,000).\n",
    "- Also the income for those with Master or PhD or professional degree is close with the one for those with an associate or Bachelor degree.\n",
    "- Those with some schooling or no HS diploma have the lowest income compared with others(less than 200,000).\n",
    "\n",
    "- The variability in income is greater among individuals with advanced degrees, indicating a high salaries in higher skilled professions."
   ]
  },
  {
   "cell_type": "code",
   "execution_count": 15,
   "id": "c46d6ab0-d119-441a-858c-561350ff7b41",
   "metadata": {},
   "outputs": [],
   "source": [
    "# plt.figure(figsize=(16, 10))\n",
    "# sns.boxplot(x='Region-division_recode', y='Income-wages', data=wages_census_df)\n",
    "# plt.title('Boxplot of Region and Income')\n",
    "# plt.xlabel('Region')\n",
    "# plt.ylabel('Income ')"
   ]
  },
  {
   "cell_type": "code",
   "execution_count": 16,
   "id": "86478a33-e755-4776-95aa-118bcb5d7946",
   "metadata": {},
   "outputs": [
    {
     "data": {
      "text/plain": [
       "Text(0, 0.5, 'Income ')"
      ]
     },
     "execution_count": 16,
     "metadata": {},
     "output_type": "execute_result"
    },
    {
     "data": {
      "image/png": "[encoded data removed]",
      "text/plain": [
       "<Figure size 1600x1000 with 1 Axes>"
      ]
     },
     "metadata": {},
     "output_type": "display_data"
    }
   ],
   "source": [
    "plt.figure(figsize=(16, 10))\n",
    "sns.boxplot(x='Region_recode', y='Income-wages', data=wages_census_df)\n",
    "plt.title('Boxplot of region and Income')\n",
    "plt.xlabel('Region')\n",
    "plt.ylabel('Income ')"
   ]
  },
  {
   "cell_type": "markdown",
   "id": "a4f9e8ad-ecd4-44de-be8d-efdb8ce472b9",
   "metadata": {},
   "source": [
    "- The people of the Northeast is where we can find the highest income, they should have people with masters, PhD or bachelors degree "
   ]
  },
  {
   "cell_type": "code",
   "execution_count": null,
   "id": "c1d6523a-81d8-40d3-bed3-3ff387a18ac0",
   "metadata": {},
   "outputs": [],
   "source": []
  },
  {
   "cell_type": "code",
   "execution_count": null,
   "id": "350302a7-5007-4e55-b172-bae34e19ca31",
   "metadata": {},
   "outputs": [],
   "source": []
  },
  {
   "cell_type": "markdown",
   "id": "d70625b9-df75-4afb-b616-e26de9eebe91",
   "metadata": {},
   "source": [
    "# No.2"
   ]
  },
  {
   "cell_type": "markdown",
   "id": "5533f3f7-26e9-4f74-b559-a5087f79f423",
   "metadata": {},
   "source": [
    "### Exploratory Data Analysis"
   ]
  },
  {
   "cell_type": "code",
   "execution_count": 5,
   "id": "b5744338-d771-4d04-8ba9-654d610d3734",
   "metadata": {},
   "outputs": [],
   "source": [
    "import pandas as pd"
   ]
  },
  {
   "cell_type": "code",
   "execution_count": 2,
   "id": "59730ca4-5d71-494c-99ed-737ff5d0373c",
   "metadata": {},
   "outputs": [],
   "source": [
    "import numpy as np"
   ]
  },
  {
   "cell_type": "code",
   "execution_count": 6,
   "id": "4f6b4420-e05c-4e89-a2a9-074af1ff5fa9",
   "metadata": {},
   "outputs": [
    {
     "data": {
      "text/html": [
       "<div>\n",
       "<style scoped>\n",
       "    .dataframe tbody tr th:only-of-type {\n",
       "        vertical-align: middle;\n",
       "    }\n",
       "\n",
       "    .dataframe tbody tr th {\n",
       "        vertical-align: top;\n",
       "    }\n",
       "\n",
       "    .dataframe thead th {\n",
       "        text-align: right;\n",
       "    }\n",
       "</style>\n",
       "<table border=\"1\" class=\"dataframe\">\n",
       "  <thead>\n",
       "    <tr style=\"text-align: right;\">\n",
       "      <th></th>\n",
       "      <th>StudentID</th>\n",
       "      <th>Gender</th>\n",
       "      <th>Age</th>\n",
       "      <th>StudyHoursPerWeek</th>\n",
       "      <th>AttendanceRate</th>\n",
       "      <th>GPA</th>\n",
       "      <th>Major</th>\n",
       "      <th>PartTimeJob</th>\n",
       "      <th>ExtraCurricularActivities</th>\n",
       "    </tr>\n",
       "  </thead>\n",
       "  <tbody>\n",
       "    <tr>\n",
       "      <th>0</th>\n",
       "      <td>1</td>\n",
       "      <td>Male</td>\n",
       "      <td>24</td>\n",
       "      <td>37</td>\n",
       "      <td>90.75</td>\n",
       "      <td>3.47</td>\n",
       "      <td>Arts</td>\n",
       "      <td>Yes</td>\n",
       "      <td>No</td>\n",
       "    </tr>\n",
       "    <tr>\n",
       "      <th>1</th>\n",
       "      <td>2</td>\n",
       "      <td>Female</td>\n",
       "      <td>22</td>\n",
       "      <td>37</td>\n",
       "      <td>74.90</td>\n",
       "      <td>2.32</td>\n",
       "      <td>Education</td>\n",
       "      <td>No</td>\n",
       "      <td>No</td>\n",
       "    </tr>\n",
       "    <tr>\n",
       "      <th>2</th>\n",
       "      <td>3</td>\n",
       "      <td>Male</td>\n",
       "      <td>22</td>\n",
       "      <td>10</td>\n",
       "      <td>53.36</td>\n",
       "      <td>2.38</td>\n",
       "      <td>Business</td>\n",
       "      <td>No</td>\n",
       "      <td>No</td>\n",
       "    </tr>\n",
       "    <tr>\n",
       "      <th>3</th>\n",
       "      <td>4</td>\n",
       "      <td>Male</td>\n",
       "      <td>24</td>\n",
       "      <td>10</td>\n",
       "      <td>70.26</td>\n",
       "      <td>3.46</td>\n",
       "      <td>Science</td>\n",
       "      <td>Yes</td>\n",
       "      <td>No</td>\n",
       "    </tr>\n",
       "    <tr>\n",
       "      <th>4</th>\n",
       "      <td>5</td>\n",
       "      <td>Male</td>\n",
       "      <td>18</td>\n",
       "      <td>19</td>\n",
       "      <td>74.87</td>\n",
       "      <td>2.31</td>\n",
       "      <td>Education</td>\n",
       "      <td>Yes</td>\n",
       "      <td>No</td>\n",
       "    </tr>\n",
       "    <tr>\n",
       "      <th>...</th>\n",
       "      <td>...</td>\n",
       "      <td>...</td>\n",
       "      <td>...</td>\n",
       "      <td>...</td>\n",
       "      <td>...</td>\n",
       "      <td>...</td>\n",
       "      <td>...</td>\n",
       "      <td>...</td>\n",
       "      <td>...</td>\n",
       "    </tr>\n",
       "    <tr>\n",
       "      <th>495</th>\n",
       "      <td>496</td>\n",
       "      <td>Male</td>\n",
       "      <td>22</td>\n",
       "      <td>37</td>\n",
       "      <td>76.61</td>\n",
       "      <td>2.97</td>\n",
       "      <td>Science</td>\n",
       "      <td>No</td>\n",
       "      <td>No</td>\n",
       "    </tr>\n",
       "    <tr>\n",
       "      <th>496</th>\n",
       "      <td>497</td>\n",
       "      <td>Male</td>\n",
       "      <td>23</td>\n",
       "      <td>11</td>\n",
       "      <td>56.29</td>\n",
       "      <td>3.20</td>\n",
       "      <td>Science</td>\n",
       "      <td>No</td>\n",
       "      <td>No</td>\n",
       "    </tr>\n",
       "    <tr>\n",
       "      <th>497</th>\n",
       "      <td>498</td>\n",
       "      <td>Female</td>\n",
       "      <td>20</td>\n",
       "      <td>6</td>\n",
       "      <td>56.64</td>\n",
       "      <td>3.20</td>\n",
       "      <td>Science</td>\n",
       "      <td>No</td>\n",
       "      <td>Yes</td>\n",
       "    </tr>\n",
       "    <tr>\n",
       "      <th>498</th>\n",
       "      <td>499</td>\n",
       "      <td>Male</td>\n",
       "      <td>22</td>\n",
       "      <td>18</td>\n",
       "      <td>57.18</td>\n",
       "      <td>2.05</td>\n",
       "      <td>Business</td>\n",
       "      <td>No</td>\n",
       "      <td>Yes</td>\n",
       "    </tr>\n",
       "    <tr>\n",
       "      <th>499</th>\n",
       "      <td>500</td>\n",
       "      <td>Female</td>\n",
       "      <td>24</td>\n",
       "      <td>21</td>\n",
       "      <td>96.99</td>\n",
       "      <td>2.64</td>\n",
       "      <td>Engineering</td>\n",
       "      <td>No</td>\n",
       "      <td>No</td>\n",
       "    </tr>\n",
       "  </tbody>\n",
       "</table>\n",
       "<p>500 rows × 9 columns</p>\n",
       "</div>"
      ],
      "text/plain": [
       "     StudentID  Gender  Age  StudyHoursPerWeek  AttendanceRate   GPA  \\\n",
       "0            1    Male   24                 37           90.75  3.47   \n",
       "1            2  Female   22                 37           74.90  2.32   \n",
       "2            3    Male   22                 10           53.36  2.38   \n",
       "3            4    Male   24                 10           70.26  3.46   \n",
       "4            5    Male   18                 19           74.87  2.31   \n",
       "..         ...     ...  ...                ...             ...   ...   \n",
       "495        496    Male   22                 37           76.61  2.97   \n",
       "496        497    Male   23                 11           56.29  3.20   \n",
       "497        498  Female   20                  6           56.64  3.20   \n",
       "498        499    Male   22                 18           57.18  2.05   \n",
       "499        500  Female   24                 21           96.99  2.64   \n",
       "\n",
       "           Major PartTimeJob ExtraCurricularActivities  \n",
       "0           Arts         Yes                        No  \n",
       "1      Education          No                        No  \n",
       "2       Business          No                        No  \n",
       "3        Science         Yes                        No  \n",
       "4      Education         Yes                        No  \n",
       "..           ...         ...                       ...  \n",
       "495      Science          No                        No  \n",
       "496      Science          No                        No  \n",
       "497      Science          No                       Yes  \n",
       "498     Business          No                       Yes  \n",
       "499  Engineering          No                        No  \n",
       "\n",
       "[500 rows x 9 columns]"
      ]
     },
     "execution_count": 6,
     "metadata": {},
     "output_type": "execute_result"
    }
   ],
   "source": [
    "student_df = pd.read_csv('student_performance_data.csv') # Importing the data set\n",
    "student_df # displaying the data set"
   ]
  },
  {
   "cell_type": "markdown",
   "id": "5a3c6bf0-77b6-4bc2-b7e3-6bc93bb7944f",
   "metadata": {},
   "source": [
    "## Part (a)"
   ]
  },
  {
   "cell_type": "markdown",
   "id": "b27b49b9-d45f-4b37-bd54-8fffe4874602",
   "metadata": {},
   "source": [
    "### For each gender, which major has the highest total study hours per week?\n",
    "- I will be grouping the work based on the hint in the practice question PDF\n",
    "\n",
    "  (Hint: To answer this question, we have to group the data by the ’Gender’ and ’Major’ columns and sum the ’StudyHoursPerWeek’ column)"
   ]
  },
  {
   "cell_type": "code",
   "execution_count": 4,
   "id": "7ea929e0-ec4d-46ba-8a9a-88d672d41621",
   "metadata": {},
   "outputs": [
    {
     "name": "stdout",
     "output_type": "stream",
     "text": [
      "Gender  Major      \n",
      "Female  Arts           1070\n",
      "        Business       1229\n",
      "        Education       818\n",
      "        Engineering    1196\n",
      "        Science         813\n",
      "Male    Arts            881\n",
      "        Business       1130\n",
      "        Education      1212\n",
      "        Engineering     929\n",
      "        Science         660\n",
      "Name: StudyHoursPerWeek, dtype: int64\n"
     ]
    }
   ],
   "source": [
    "# Source: Stack overflow (https://stackoverflow.com/questions/55909708/best-way-to-use-groupby-or-aggregate-in-pandas)\n",
    "# Source 2: Intro to Pandas notebook\n",
    "\n",
    "# finding the sum of study hours per week grouped according to gender and major \n",
    "total_study_hours = student_df.groupby(['Gender', 'Major'])['StudyHoursPerWeek'].sum() \n",
    "print(total_study_hours)\n"
   ]
  },
  {
   "cell_type": "markdown",
   "id": "b79546ff-3e91-4494-a7e9-5b297aaced19",
   "metadata": {},
   "source": [
    "- For the female, the Business major has the highest study hours with 1229hrs\n",
    "- For the male, the Education major has the highest study hours with 1212hrs"
   ]
  },
  {
   "cell_type": "markdown",
   "id": "811aa009-f1ef-4111-8759-b0660b82bb2a",
   "metadata": {},
   "source": [
    "## Part (b)"
   ]
  },
  {
   "cell_type": "markdown",
   "id": "5619d9ae-e9e7-428e-b141-51c7e812f35d",
   "metadata": {},
   "source": [
    "###  Which gender has the highest overall average attendance rate? Return the gender and the averageattendance rate? "
   ]
  },
  {
   "cell_type": "code",
   "execution_count": 5,
   "id": "577a6a10-db34-48fb-992f-ed2dae25205c",
   "metadata": {},
   "outputs": [
    {
     "name": "stdout",
     "output_type": "stream",
     "text": [
      "Gender\n",
      "Female    75.925742\n",
      "Male      74.009016\n",
      "Name: AttendanceRate, dtype: float64\n"
     ]
    }
   ],
   "source": [
    "# Using idea from the Pandas notebook and stack overflow to find mean of attendance\n",
    "average_attendance = student_df.groupby('Gender')['AttendanceRate'].mean() # finding the mean/ average attendance rate\n",
    "print(average_attendance)"
   ]
  },
  {
   "cell_type": "markdown",
   "id": "71ccff15-c3c4-4ec9-9668-d1d8d4b0f358",
   "metadata": {},
   "source": [
    "- The gender with the highest overall average attendance rate is Male with average attendace rate of approximately 74"
   ]
  },
  {
   "cell_type": "markdown",
   "id": "8a8c9d95-5ef0-421a-9b83-1f194f5b56a6",
   "metadata": {},
   "source": [
    "## Part (c)"
   ]
  },
  {
   "cell_type": "markdown",
   "id": "97a2442c-f0df-4310-9777-f23f6795259e",
   "metadata": {},
   "source": [
    "###  What percentage of students have part-time jobs, and what percentage have no part-time jobs?\n",
    "- We can use the grouping method here. "
   ]
  },
  {
   "cell_type": "code",
   "execution_count": 6,
   "id": "f3305c0b-da40-4df0-a6bb-31f5fe2be9be",
   "metadata": {},
   "outputs": [
    {
     "data": {
      "text/plain": [
       "PartTimeJob\n",
       "No     232\n",
       "Yes    268\n",
       "dtype: int64"
      ]
     },
     "execution_count": 6,
     "metadata": {},
     "output_type": "execute_result"
    }
   ],
   "source": [
    "# finding the number of those with and those without a part time job. Finding the size of Part time job.\n",
    "part_time_counts = student_df.groupby('PartTimeJob').size() \n",
    "part_time_counts"
   ]
  },
  {
   "cell_type": "code",
   "execution_count": 7,
   "id": "a0b22421-410f-49a8-b5ae-d55a7e053cd9",
   "metadata": {},
   "outputs": [
    {
     "name": "stdout",
     "output_type": "stream",
     "text": [
      "500\n"
     ]
    }
   ],
   "source": [
    "total_students = len(student_df) # finding the number of students\n",
    "print(total_students)"
   ]
  },
  {
   "cell_type": "code",
   "execution_count": 8,
   "id": "1caa26be-5847-438e-8778-43965a6e87e3",
   "metadata": {},
   "outputs": [
    {
     "name": "stdout",
     "output_type": "stream",
     "text": [
      "PartTimeJob\n",
      "No     46.4\n",
      "Yes    53.6\n",
      "dtype: float64\n"
     ]
    }
   ],
   "source": [
    "part_time_percent = (part_time_counts / total_students) * 100 # finding the percentage of parttimejob\n",
    "print(part_time_percent)"
   ]
  },
  {
   "cell_type": "markdown",
   "id": "0aab87fe-a09c-4316-a041-e156ecb27692",
   "metadata": {},
   "source": [
    "- The percentage of students who have part-time jobs is 53.6\n",
    "- The percentage of students who have no part-time jobs is 46.4"
   ]
  },
  {
   "cell_type": "markdown",
   "id": "f0d825d2-f07e-44b7-b06c-caa6b9b5d8d1",
   "metadata": {},
   "source": [
    "## Part (d)"
   ]
  },
  {
   "cell_type": "markdown",
   "id": "910e0687-c8fd-43f7-9a39-c5d09db57268",
   "metadata": {},
   "source": [
    "### For each gender, what is the mean GPA and variance of age?"
   ]
  },
  {
   "cell_type": "code",
   "execution_count": 9,
   "id": "772f8302-b905-47a3-a90d-9dddb6803821",
   "metadata": {},
   "outputs": [
    {
     "name": "stdout",
     "output_type": "stream",
     "text": [
      "             GPA       Age\n",
      "Gender                    \n",
      "Female  2.995352  4.005637\n",
      "Male    2.974467  3.960130\n"
     ]
    }
   ],
   "source": [
    "# Source: Based on examples in stack overflow to forge this (https://stackoverflow.com/questions/55909708/best-way-to-use-groupby-or-aggregate-in-pandas)\n",
    "\n",
    "stats = student_df.groupby('Gender').agg({'GPA': 'mean', 'Age': 'var'})\n",
    "print(stats)"
   ]
  },
  {
   "cell_type": "markdown",
   "id": "108c34ec-651c-4503-b85c-4607387e8e16",
   "metadata": {},
   "source": [
    "## Part (e)"
   ]
  },
  {
   "cell_type": "markdown",
   "id": "ca6acb79-2cb9-49e4-a65a-17e2b05ff4f2",
   "metadata": {},
   "source": [
    "### Create a visualization that effectively shows if there is a relationship between any two variables of your choice. Your answer must be given in a single pipe.\n",
    "\n",
    "- The single pipe means same cell. I will be using a scatterplot to visualise the relationship between 'AttendanceRate' and 'GPA'"
   ]
  },
  {
   "cell_type": "code",
   "execution_count": 7,
   "id": "293f1037-7c3a-46c6-9cbe-43ea72c8a18a",
   "metadata": {},
   "outputs": [
    {
     "data": {
      "image/png": "[encoded data removed]",
      "text/plain": [
       "<Figure size 800x600 with 1 Axes>"
      ]
     },
     "metadata": {},
     "output_type": "display_data"
    }
   ],
   "source": [
    "# Visualising data using a scatter plot\n",
    "plt.figure(figsize=(8,6))\n",
    "sns.scatterplot(data=student_df, x='AttendanceRate', y='GPA')\n",
    "plt.title('A scatter plot')\n",
    "plt.xlabel('AttendanceRate')\n",
    "plt.ylabel('GPA')\n",
    "plt.show()"
   ]
  },
  {
   "cell_type": "code",
   "execution_count": null,
   "id": "fb0d58d5-0026-480e-9baa-1c12cb78aa8e",
   "metadata": {},
   "outputs": [],
   "source": []
  },
  {
   "cell_type": "code",
   "execution_count": null,
   "id": "1981b00c-b0a6-4f69-bfe6-bd20660940cd",
   "metadata": {},
   "outputs": [],
   "source": []
  },
  {
   "cell_type": "markdown",
   "id": "a1fd4ae8-7fc9-4381-8707-f5c7d735bf8d",
   "metadata": {},
   "source": [
    "# No.3"
   ]
  },
  {
   "cell_type": "markdown",
   "id": "b9387300-8a21-47c5-9b11-0a764b29a85a",
   "metadata": {},
   "source": [
    "##  Linear regression"
   ]
  },
  {
   "cell_type": "markdown",
   "id": "36e1e926-3623-410c-bbf1-4dc1ca281c3b",
   "metadata": {},
   "source": [
    "## Part (a)"
   ]
  },
  {
   "cell_type": "markdown",
   "id": "18582f9a-9b97-4384-aba2-2a76d9c41475",
   "metadata": {},
   "source": [
    "###  Briefly describe the steps involved in fitting a linear regression in Python?"
   ]
  },
  {
   "cell_type": "markdown",
   "id": "0272113d-9879-406f-a860-2ca0c82f1d14",
   "metadata": {},
   "source": [
    "#### Source: Univeriate Linear regression notebook (Example 2: Automobile prediction)\n",
    "\n",
    "- Step 1 is to import necessary libraries such as Pandas and Scikit-learn\n",
    "- Step 2 is to load data (importing the dataset using pandas)\n",
    "- Step 3 is to select and rename relevant columns\n",
    "- Step 4 is checking the data types\n",
    "- Step 5 is converting data to numeric\n",
    "- Step 6 is to handle missing vaaalues\n",
    "- Step 7 involves explanatory data analysis\n",
    "- Step 8 is to prepare for Linear Regression\n",
    "- Step 9 is standardizing the Features and Target Variable\n",
    "- Step 10 is to train the Linear Regression Model\n",
    "- Step 11 is making Predictions \n",
    "- Step 12 is to Inverse Transform the Predictions\n",
    "- Step 13 is to evaluate the Model, and Plot\n",
    "- Step 14 is plotting the Train and Test Data with the Linear Regression Line  "
   ]
  },
  {
   "cell_type": "markdown",
   "id": "d89676ae-11eb-4514-9b25-bc600c257db6",
   "metadata": {},
   "source": [
    "## Part (b)"
   ]
  },
  {
   "cell_type": "markdown",
   "id": "e079bb52-6fcf-470f-a1c5-af805c54424b",
   "metadata": {},
   "source": [
    "###  What assumptions does the linear regression take into consideration?"
   ]
  },
  {
   "cell_type": "markdown",
   "id": "bb3fe4bf-7688-45f7-b063-89c0296c0a5c",
   "metadata": {},
   "source": [
    "### The following are the ssumputions of linear regression\n",
    "- The dependent variable (y) and independent variable (x) must be linear\n",
    "- The x's have to be identically independent from each other\n",
    "- There should be homoscedasticity (constant / similar variance)\n",
    "- The error follows a normal distribution n ~ n(0, 1)"
   ]
  },
  {
   "cell_type": "markdown",
   "id": "dd3b315b-1310-4fe0-85e2-f3ff10d40256",
   "metadata": {},
   "source": [
    "## Part (c)"
   ]
  },
  {
   "cell_type": "markdown",
   "id": "870f0698-8674-4e13-be30-f1c6f2e52644",
   "metadata": {},
   "source": [
    "### Using the 2020 US Census dataset, train a simple linear regression predicting a continuous target variable using the scikit-learn library. From the output coefficients, generate an equationrepresenting the trained simple linear regression?"
   ]
  },
  {
   "cell_type": "code",
   "execution_count": 2,
   "id": "061aa1bf-7219-4291-a5fe-96749391eac5",
   "metadata": {},
   "outputs": [],
   "source": [
    "import pandas as pd"
   ]
  },
  {
   "cell_type": "code",
   "execution_count": 36,
   "id": "668a8b7b-995d-455b-9d08-055ca05098a5",
   "metadata": {},
   "outputs": [],
   "source": [
    "# importing libraries  \n",
    "import numpy as np  \n",
    "import matplotlib.pyplot as plt  \n",
    "from sklearn.model_selection import train_test_split  \n",
    "from sklearn.linear_model import LinearRegression  \n",
    "from sklearn.preprocessing import StandardScaler  \n",
    "from sklearn.metrics import mean_squared_error, r2_score "
   ]
  },
  {
   "cell_type": "code",
   "execution_count": 4,
   "id": "4b3eb180-7832-4219-9896-bb7b1ac152ec",
   "metadata": {},
   "outputs": [
    {
     "data": {
      "text/html": [
       "<div>\n",
       "<style scoped>\n",
       "    .dataframe tbody tr th:only-of-type {\n",
       "        vertical-align: middle;\n",
       "    }\n",
       "\n",
       "    .dataframe tbody tr th {\n",
       "        vertical-align: top;\n",
       "    }\n",
       "\n",
       "    .dataframe thead th {\n",
       "        text-align: right;\n",
       "    }\n",
       "</style>\n",
       "<table border=\"1\" class=\"dataframe\">\n",
       "  <thead>\n",
       "    <tr style=\"text-align: right;\">\n",
       "      <th></th>\n",
       "      <th>Age</th>\n",
       "      <th>Sex</th>\n",
       "      <th>Marital_status</th>\n",
       "      <th>Number_of_children</th>\n",
       "      <th>Family_size</th>\n",
       "      <th>Education-degree_recode</th>\n",
       "      <th>Education-degree_recode 2</th>\n",
       "      <th>Education</th>\n",
       "      <th>Race_ethnicity-multi_recode</th>\n",
       "      <th>Immigrate-year</th>\n",
       "      <th>Birthplace_recode</th>\n",
       "      <th>Speaks_English</th>\n",
       "      <th>Employment_status</th>\n",
       "      <th>Income-wages</th>\n",
       "      <th>Region_recode</th>\n",
       "      <th>Region-division_recode</th>\n",
       "      <th>Moved</th>\n",
       "      <th>Year</th>\n",
       "      <th>state</th>\n",
       "    </tr>\n",
       "  </thead>\n",
       "  <tbody>\n",
       "    <tr>\n",
       "      <th>0</th>\n",
       "      <td>30</td>\n",
       "      <td>Male</td>\n",
       "      <td>Married, spouse present</td>\n",
       "      <td>2</td>\n",
       "      <td>4</td>\n",
       "      <td>Masterâ€™s or professional degree</td>\n",
       "      <td>Master or professional degree</td>\n",
       "      <td>Master or PhD or professional degree</td>\n",
       "      <td>Non-Hispanic White</td>\n",
       "      <td>0</td>\n",
       "      <td>U.S. state, territory, or outlying region</td>\n",
       "      <td>Yes, speaks only English</td>\n",
       "      <td>Employed</td>\n",
       "      <td>63000</td>\n",
       "      <td>South</td>\n",
       "      <td>East South Central</td>\n",
       "      <td>Same house</td>\n",
       "      <td>2020</td>\n",
       "      <td>Tennessee</td>\n",
       "    </tr>\n",
       "    <tr>\n",
       "      <th>1</th>\n",
       "      <td>28</td>\n",
       "      <td>Female</td>\n",
       "      <td>Married, spouse present</td>\n",
       "      <td>1 child present</td>\n",
       "      <td>3</td>\n",
       "      <td>Masterâ€™s or professional degree</td>\n",
       "      <td>Master or professional degree</td>\n",
       "      <td>Master or PhD or professional degree</td>\n",
       "      <td>Non-Hispanic White</td>\n",
       "      <td>0</td>\n",
       "      <td>U.S. state, territory, or outlying region</td>\n",
       "      <td>Yes, speaks only English</td>\n",
       "      <td>Employed</td>\n",
       "      <td>46000</td>\n",
       "      <td>South</td>\n",
       "      <td>East South Central</td>\n",
       "      <td>Same house</td>\n",
       "      <td>2020</td>\n",
       "      <td>Tennessee</td>\n",
       "    </tr>\n",
       "    <tr>\n",
       "      <th>2</th>\n",
       "      <td>34</td>\n",
       "      <td>Male</td>\n",
       "      <td>Married, spouse present</td>\n",
       "      <td>1 child present</td>\n",
       "      <td>3</td>\n",
       "      <td>Bachelorâ€™s degree</td>\n",
       "      <td>Bachelor degree</td>\n",
       "      <td>Associate or Bachelor degree</td>\n",
       "      <td>Non-Hispanic White</td>\n",
       "      <td>0</td>\n",
       "      <td>U.S. state, territory, or outlying region</td>\n",
       "      <td>Yes, speaks only English</td>\n",
       "      <td>Employed</td>\n",
       "      <td>45000</td>\n",
       "      <td>South</td>\n",
       "      <td>East South Central</td>\n",
       "      <td>Same house</td>\n",
       "      <td>2020</td>\n",
       "      <td>Tennessee</td>\n",
       "    </tr>\n",
       "    <tr>\n",
       "      <th>3</th>\n",
       "      <td>58</td>\n",
       "      <td>Female</td>\n",
       "      <td>Married, spouse absent</td>\n",
       "      <td>1 child present</td>\n",
       "      <td>2</td>\n",
       "      <td>1 or more years of college, no degree</td>\n",
       "      <td>1 or more years of college, no degree</td>\n",
       "      <td>1 or more years of college, no degree</td>\n",
       "      <td>Non-Hispanic White</td>\n",
       "      <td>0</td>\n",
       "      <td>U.S. state, territory, or outlying region</td>\n",
       "      <td>Yes, speaks only English</td>\n",
       "      <td>Employed</td>\n",
       "      <td>55000</td>\n",
       "      <td>South</td>\n",
       "      <td>East South Central</td>\n",
       "      <td>Same house</td>\n",
       "      <td>2020</td>\n",
       "      <td>Tennessee</td>\n",
       "    </tr>\n",
       "    <tr>\n",
       "      <th>4</th>\n",
       "      <td>39</td>\n",
       "      <td>Male</td>\n",
       "      <td>Never married/single</td>\n",
       "      <td>0 children present</td>\n",
       "      <td>1</td>\n",
       "      <td>Bachelorâ€™s degree</td>\n",
       "      <td>Bachelor degree</td>\n",
       "      <td>Associate or Bachelor degree</td>\n",
       "      <td>Non-Hispanic White</td>\n",
       "      <td>0</td>\n",
       "      <td>U.S. state, territory, or outlying region</td>\n",
       "      <td>Yes, speaks only English</td>\n",
       "      <td>Employed</td>\n",
       "      <td>12000</td>\n",
       "      <td>South</td>\n",
       "      <td>East South Central</td>\n",
       "      <td>Same house</td>\n",
       "      <td>2020</td>\n",
       "      <td>Tennessee</td>\n",
       "    </tr>\n",
       "  </tbody>\n",
       "</table>\n",
       "</div>"
      ],
      "text/plain": [
       "   Age     Sex           Marital_status  Number_of_children  Family_size  \\\n",
       "0   30    Male  Married, spouse present                   2            4   \n",
       "1   28  Female  Married, spouse present     1 child present            3   \n",
       "2   34    Male  Married, spouse present     1 child present            3   \n",
       "3   58  Female   Married, spouse absent     1 child present            2   \n",
       "4   39    Male     Never married/single  0 children present            1   \n",
       "\n",
       "                 Education-degree_recode  \\\n",
       "0      Masterâ€™s or professional degree   \n",
       "1      Masterâ€™s or professional degree   \n",
       "2                    Bachelorâ€™s degree   \n",
       "3  1 or more years of college, no degree   \n",
       "4                    Bachelorâ€™s degree   \n",
       "\n",
       "               Education-degree_recode 2  \\\n",
       "0          Master or professional degree   \n",
       "1          Master or professional degree   \n",
       "2                        Bachelor degree   \n",
       "3  1 or more years of college, no degree   \n",
       "4                        Bachelor degree   \n",
       "\n",
       "                               Education Race_ethnicity-multi_recode  \\\n",
       "0   Master or PhD or professional degree          Non-Hispanic White   \n",
       "1   Master or PhD or professional degree          Non-Hispanic White   \n",
       "2           Associate or Bachelor degree          Non-Hispanic White   \n",
       "3  1 or more years of college, no degree          Non-Hispanic White   \n",
       "4           Associate or Bachelor degree          Non-Hispanic White   \n",
       "\n",
       "   Immigrate-year                          Birthplace_recode  \\\n",
       "0               0  U.S. state, territory, or outlying region   \n",
       "1               0  U.S. state, territory, or outlying region   \n",
       "2               0  U.S. state, territory, or outlying region   \n",
       "3               0  U.S. state, territory, or outlying region   \n",
       "4               0  U.S. state, territory, or outlying region   \n",
       "\n",
       "             Speaks_English Employment_status  Income-wages Region_recode  \\\n",
       "0  Yes, speaks only English          Employed         63000         South   \n",
       "1  Yes, speaks only English          Employed         46000         South   \n",
       "2  Yes, speaks only English          Employed         45000         South   \n",
       "3  Yes, speaks only English          Employed         55000         South   \n",
       "4  Yes, speaks only English          Employed         12000         South   \n",
       "\n",
       "  Region-division_recode       Moved  Year      state  \n",
       "0     East South Central  Same house  2020  Tennessee  \n",
       "1     East South Central  Same house  2020  Tennessee  \n",
       "2     East South Central  Same house  2020  Tennessee  \n",
       "3     East South Central  Same house  2020  Tennessee  \n",
       "4     East South Central  Same house  2020  Tennessee  "
      ]
     },
     "execution_count": 4,
     "metadata": {},
     "output_type": "execute_result"
    }
   ],
   "source": [
    "# Importing the excel data set into the notebook.\n",
    "wages_census_df = pd.read_excel('Wages 2020Census cleaned.xlsx') \n",
    "wages_census_df.head()"
   ]
  },
  {
   "cell_type": "code",
   "execution_count": 5,
   "id": "91a01e3e-1762-403c-a934-6f128135f1c9",
   "metadata": {},
   "outputs": [
    {
     "data": {
      "text/html": [
       "<div>\n",
       "<style scoped>\n",
       "    .dataframe tbody tr th:only-of-type {\n",
       "        vertical-align: middle;\n",
       "    }\n",
       "\n",
       "    .dataframe tbody tr th {\n",
       "        vertical-align: top;\n",
       "    }\n",
       "\n",
       "    .dataframe thead th {\n",
       "        text-align: right;\n",
       "    }\n",
       "</style>\n",
       "<table border=\"1\" class=\"dataframe\">\n",
       "  <thead>\n",
       "    <tr style=\"text-align: right;\">\n",
       "      <th></th>\n",
       "      <th>Income_wage</th>\n",
       "      <th>Age</th>\n",
       "    </tr>\n",
       "  </thead>\n",
       "  <tbody>\n",
       "    <tr>\n",
       "      <th>0</th>\n",
       "      <td>63000</td>\n",
       "      <td>30</td>\n",
       "    </tr>\n",
       "    <tr>\n",
       "      <th>1</th>\n",
       "      <td>46000</td>\n",
       "      <td>28</td>\n",
       "    </tr>\n",
       "    <tr>\n",
       "      <th>2</th>\n",
       "      <td>45000</td>\n",
       "      <td>34</td>\n",
       "    </tr>\n",
       "    <tr>\n",
       "      <th>3</th>\n",
       "      <td>55000</td>\n",
       "      <td>58</td>\n",
       "    </tr>\n",
       "    <tr>\n",
       "      <th>4</th>\n",
       "      <td>12000</td>\n",
       "      <td>39</td>\n",
       "    </tr>\n",
       "  </tbody>\n",
       "</table>\n",
       "</div>"
      ],
      "text/plain": [
       "   Income_wage  Age\n",
       "0        63000   30\n",
       "1        46000   28\n",
       "2        45000   34\n",
       "3        55000   58\n",
       "4        12000   39"
      ]
     },
     "execution_count": 5,
     "metadata": {},
     "output_type": "execute_result"
    }
   ],
   "source": [
    "# selecting and renaming relevant columns\n",
    "wages_census_df = wages_census_df[['Income-wages', 'Age']]\n",
    "wages_census_df = wages_census_df.rename(columns={\"Income-wages\": \"Income_wage\"})\n",
    "wages_census_df.head()"
   ]
  },
  {
   "cell_type": "code",
   "execution_count": 7,
   "id": "f13fcffb-d7da-4f61-8596-4efa5172b610",
   "metadata": {},
   "outputs": [
    {
     "name": "stdout",
     "output_type": "stream",
     "text": [
      "Income_wage    int64\n",
      "Age            int64\n",
      "dtype: object\n"
     ]
    }
   ],
   "source": [
    "# checking the dat type\n",
    "print(wages_census_df.dtypes)"
   ]
  },
  {
   "cell_type": "code",
   "execution_count": 13,
   "id": "8ce9ed6e-e4ec-499a-8e06-fd4bafff044d",
   "metadata": {},
   "outputs": [
    {
     "name": "stdout",
     "output_type": "stream",
     "text": [
      "Income_wage    0\n",
      "Age            0\n",
      "dtype: int64\n"
     ]
    }
   ],
   "source": [
    "# handling missing data\n",
    "print(wages_census_df.isnull().sum())"
   ]
  },
  {
   "cell_type": "code",
   "execution_count": 15,
   "id": "a9e5a517-1c5f-4db1-ac34-c7b39db9d0a7",
   "metadata": {},
   "outputs": [],
   "source": [
    "# preparing for LR\n",
    "\n",
    "X = wages_census_df[['Income_wage']].values.reshape(-1, 1)  \n",
    "y = wages_census_df['Age'].values.reshape(-1, 1)"
   ]
  },
  {
   "cell_type": "code",
   "execution_count": 16,
   "id": "f6208c48-4411-491f-bea8-7f43eb15291d",
   "metadata": {},
   "outputs": [],
   "source": [
    "# Splitting data into train and test\n",
    "\n",
    "from sklearn.model_selection import train_test_split  \n",
    "X_train, X_test, y_train, y_test = train_test_split(X, y, test_size=0.2, random_state=42)"
   ]
  },
  {
   "cell_type": "code",
   "execution_count": 17,
   "id": "3ff99b8d-1075-4e4b-ad29-c84df7765998",
   "metadata": {},
   "outputs": [
    {
     "data": {
      "text/plain": [
       "((3492, 1), (873, 1), (3492, 1), (873, 1))"
      ]
     },
     "execution_count": 17,
     "metadata": {},
     "output_type": "execute_result"
    }
   ],
   "source": [
    "# displaying them\n",
    "X_train.shape, X_test.shape, y_train.shape, y_test.shape"
   ]
  },
  {
   "cell_type": "code",
   "execution_count": 38,
   "id": "1277689a-e3bf-486d-97f2-3948204abd96",
   "metadata": {},
   "outputs": [
    {
     "data": {
      "text/plain": [
       "((3492, 1), (873, 1), (3492, 1), (873, 1))"
      ]
     },
     "execution_count": 38,
     "metadata": {},
     "output_type": "execute_result"
    }
   ],
   "source": [
    "# Standardizing the Features and Target Variable  \n",
    "\n",
    "X_scaler = StandardScaler()  \n",
    "y_scaler = StandardScaler()  \n",
    "\n",
    "X_train_scaled = X_scaler.fit_transform(X_train)  \n",
    "X_test_scaled = X_scaler.transform(X_test)  \n",
    "\n",
    "y_train_scaled = y_scaler.fit_transform(y_train) \n",
    "y_test_scaled = y_scaler.transform(y_test)\n",
    "\n",
    "y_train_scaled.shape, X_test_scaled.shape, y_train_scaled.shape, y_test_scaled.shape"
   ]
  },
  {
   "cell_type": "code",
   "execution_count": 39,
   "id": "39bed7f2-bc4a-4f19-afea-95180728c5e8",
   "metadata": {},
   "outputs": [
    {
     "data": {
      "text/html": [
       "<style>#sk-container-id-4 {\n",
       "  /* Definition of color scheme common for light and dark mode */\n",
       "  --sklearn-color-text: black;\n",
       "  --sklearn-color-line: gray;\n",
       "  /* Definition of color scheme for unfitted estimators */\n",
       "  --sklearn-color-unfitted-level-0: #fff5e6;\n",
       "  --sklearn-color-unfitted-level-1: #f6e4d2;\n",
       "  --sklearn-color-unfitted-level-2: #ffe0b3;\n",
       "  --sklearn-color-unfitted-level-3: chocolate;\n",
       "  /* Definition of color scheme for fitted estimators */\n",
       "  --sklearn-color-fitted-level-0: #f0f8ff;\n",
       "  --sklearn-color-fitted-level-1: #d4ebff;\n",
       "  --sklearn-color-fitted-level-2: #b3dbfd;\n",
       "  --sklearn-color-fitted-level-3: cornflowerblue;\n",
       "\n",
       "  /* Specific color for light theme */\n",
       "  --sklearn-color-text-on-default-background: var(--sg-text-color, var(--theme-code-foreground, var(--jp-content-font-color1, black)));\n",
       "  --sklearn-color-background: var(--sg-background-color, var(--theme-background, var(--jp-layout-color0, white)));\n",
       "  --sklearn-color-border-box: var(--sg-text-color, var(--theme-code-foreground, var(--jp-content-font-color1, black)));\n",
       "  --sklearn-color-icon: #696969;\n",
       "\n",
       "  @media (prefers-color-scheme: dark) {\n",
       "    /* Redefinition of color scheme for dark theme */\n",
       "    --sklearn-color-text-on-default-background: var(--sg-text-color, var(--theme-code-foreground, var(--jp-content-font-color1, white)));\n",
       "    --sklearn-color-background: var(--sg-background-color, var(--theme-background, var(--jp-layout-color0, #111)));\n",
       "    --sklearn-color-border-box: var(--sg-text-color, var(--theme-code-foreground, var(--jp-content-font-color1, white)));\n",
       "    --sklearn-color-icon: #878787;\n",
       "  }\n",
       "}\n",
       "\n",
       "#sk-container-id-4 {\n",
       "  color: var(--sklearn-color-text);\n",
       "}\n",
       "\n",
       "#sk-container-id-4 pre {\n",
       "  padding: 0;\n",
       "}\n",
       "\n",
       "#sk-container-id-4 input.sk-hidden--visually {\n",
       "  border: 0;\n",
       "  clip: rect(1px 1px 1px 1px);\n",
       "  clip: rect(1px, 1px, 1px, 1px);\n",
       "  height: 1px;\n",
       "  margin: -1px;\n",
       "  overflow: hidden;\n",
       "  padding: 0;\n",
       "  position: absolute;\n",
       "  width: 1px;\n",
       "}\n",
       "\n",
       "#sk-container-id-4 div.sk-dashed-wrapped {\n",
       "  border: 1px dashed var(--sklearn-color-line);\n",
       "  margin: 0 0.4em 0.5em 0.4em;\n",
       "  box-sizing: border-box;\n",
       "  padding-bottom: 0.4em;\n",
       "  background-color: var(--sklearn-color-background);\n",
       "}\n",
       "\n",
       "#sk-container-id-4 div.sk-container {\n",
       "  /* jupyter's `normalize.less` sets `[hidden] { display: none; }`\n",
       "     but bootstrap.min.css set `[hidden] { display: none !important; }`\n",
       "     so we also need the `!important` here to be able to override the\n",
       "     default hidden behavior on the sphinx rendered scikit-learn.org.\n",
       "     See: https://github.com/scikit-learn/scikit-learn/issues/21755 */\n",
       "  display: inline-block !important;\n",
       "  position: relative;\n",
       "}\n",
       "\n",
       "#sk-container-id-4 div.sk-text-repr-fallback {\n",
       "  display: none;\n",
       "}\n",
       "\n",
       "div.sk-parallel-item,\n",
       "div.sk-serial,\n",
       "div.sk-item {\n",
       "  /* draw centered vertical line to link estimators */\n",
       "  background-image: linear-gradient(var(--sklearn-color-text-on-default-background), var(--sklearn-color-text-on-default-background));\n",
       "  background-size: 2px 100%;\n",
       "  background-repeat: no-repeat;\n",
       "  background-position: center center;\n",
       "}\n",
       "\n",
       "/* Parallel-specific style estimator block */\n",
       "\n",
       "#sk-container-id-4 div.sk-parallel-item::after {\n",
       "  content: \"\";\n",
       "  width: 100%;\n",
       "  border-bottom: 2px solid var(--sklearn-color-text-on-default-background);\n",
       "  flex-grow: 1;\n",
       "}\n",
       "\n",
       "#sk-container-id-4 div.sk-parallel {\n",
       "  display: flex;\n",
       "  align-items: stretch;\n",
       "  justify-content: center;\n",
       "  background-color: var(--sklearn-color-background);\n",
       "  position: relative;\n",
       "}\n",
       "\n",
       "#sk-container-id-4 div.sk-parallel-item {\n",
       "  display: flex;\n",
       "  flex-direction: column;\n",
       "}\n",
       "\n",
       "#sk-container-id-4 div.sk-parallel-item:first-child::after {\n",
       "  align-self: flex-end;\n",
       "  width: 50%;\n",
       "}\n",
       "\n",
       "#sk-container-id-4 div.sk-parallel-item:last-child::after {\n",
       "  align-self: flex-start;\n",
       "  width: 50%;\n",
       "}\n",
       "\n",
       "#sk-container-id-4 div.sk-parallel-item:only-child::after {\n",
       "  width: 0;\n",
       "}\n",
       "\n",
       "/* Serial-specific style estimator block */\n",
       "\n",
       "#sk-container-id-4 div.sk-serial {\n",
       "  display: flex;\n",
       "  flex-direction: column;\n",
       "  align-items: center;\n",
       "  background-color: var(--sklearn-color-background);\n",
       "  padding-right: 1em;\n",
       "  padding-left: 1em;\n",
       "}\n",
       "\n",
       "\n",
       "/* Toggleable style: style used for estimator/Pipeline/ColumnTransformer box that is\n",
       "clickable and can be expanded/collapsed.\n",
       "- Pipeline and ColumnTransformer use this feature and define the default style\n",
       "- Estimators will overwrite some part of the style using the `sk-estimator` class\n",
       "*/\n",
       "\n",
       "/* Pipeline and ColumnTransformer style (default) */\n",
       "\n",
       "#sk-container-id-4 div.sk-toggleable {\n",
       "  /* Default theme specific background. It is overwritten whether we have a\n",
       "  specific estimator or a Pipeline/ColumnTransformer */\n",
       "  background-color: var(--sklearn-color-background);\n",
       "}\n",
       "\n",
       "/* Toggleable label */\n",
       "#sk-container-id-4 label.sk-toggleable__label {\n",
       "  cursor: pointer;\n",
       "  display: block;\n",
       "  width: 100%;\n",
       "  margin-bottom: 0;\n",
       "  padding: 0.5em;\n",
       "  box-sizing: border-box;\n",
       "  text-align: center;\n",
       "}\n",
       "\n",
       "#sk-container-id-4 label.sk-toggleable__label-arrow:before {\n",
       "  /* Arrow on the left of the label */\n",
       "  content: \"▸\";\n",
       "  float: left;\n",
       "  margin-right: 0.25em;\n",
       "  color: var(--sklearn-color-icon);\n",
       "}\n",
       "\n",
       "#sk-container-id-4 label.sk-toggleable__label-arrow:hover:before {\n",
       "  color: var(--sklearn-color-text);\n",
       "}\n",
       "\n",
       "/* Toggleable content - dropdown */\n",
       "\n",
       "#sk-container-id-4 div.sk-toggleable__content {\n",
       "  max-height: 0;\n",
       "  max-width: 0;\n",
       "  overflow: hidden;\n",
       "  text-align: left;\n",
       "  /* unfitted */\n",
       "  background-color: var(--sklearn-color-unfitted-level-0);\n",
       "}\n",
       "\n",
       "#sk-container-id-4 div.sk-toggleable__content.fitted {\n",
       "  /* fitted */\n",
       "  background-color: var(--sklearn-color-fitted-level-0);\n",
       "}\n",
       "\n",
       "#sk-container-id-4 div.sk-toggleable__content pre {\n",
       "  margin: 0.2em;\n",
       "  border-radius: 0.25em;\n",
       "  color: var(--sklearn-color-text);\n",
       "  /* unfitted */\n",
       "  background-color: var(--sklearn-color-unfitted-level-0);\n",
       "}\n",
       "\n",
       "#sk-container-id-4 div.sk-toggleable__content.fitted pre {\n",
       "  /* unfitted */\n",
       "  background-color: var(--sklearn-color-fitted-level-0);\n",
       "}\n",
       "\n",
       "#sk-container-id-4 input.sk-toggleable__control:checked~div.sk-toggleable__content {\n",
       "  /* Expand drop-down */\n",
       "  max-height: 200px;\n",
       "  max-width: 100%;\n",
       "  overflow: auto;\n",
       "}\n",
       "\n",
       "#sk-container-id-4 input.sk-toggleable__control:checked~label.sk-toggleable__label-arrow:before {\n",
       "  content: \"▾\";\n",
       "}\n",
       "\n",
       "/* Pipeline/ColumnTransformer-specific style */\n",
       "\n",
       "#sk-container-id-4 div.sk-label input.sk-toggleable__control:checked~label.sk-toggleable__label {\n",
       "  color: var(--sklearn-color-text);\n",
       "  background-color: var(--sklearn-color-unfitted-level-2);\n",
       "}\n",
       "\n",
       "#sk-container-id-4 div.sk-label.fitted input.sk-toggleable__control:checked~label.sk-toggleable__label {\n",
       "  background-color: var(--sklearn-color-fitted-level-2);\n",
       "}\n",
       "\n",
       "/* Estimator-specific style */\n",
       "\n",
       "/* Colorize estimator box */\n",
       "#sk-container-id-4 div.sk-estimator input.sk-toggleable__control:checked~label.sk-toggleable__label {\n",
       "  /* unfitted */\n",
       "  background-color: var(--sklearn-color-unfitted-level-2);\n",
       "}\n",
       "\n",
       "#sk-container-id-4 div.sk-estimator.fitted input.sk-toggleable__control:checked~label.sk-toggleable__label {\n",
       "  /* fitted */\n",
       "  background-color: var(--sklearn-color-fitted-level-2);\n",
       "}\n",
       "\n",
       "#sk-container-id-4 div.sk-label label.sk-toggleable__label,\n",
       "#sk-container-id-4 div.sk-label label {\n",
       "  /* The background is the default theme color */\n",
       "  color: var(--sklearn-color-text-on-default-background);\n",
       "}\n",
       "\n",
       "/* On hover, darken the color of the background */\n",
       "#sk-container-id-4 div.sk-label:hover label.sk-toggleable__label {\n",
       "  color: var(--sklearn-color-text);\n",
       "  background-color: var(--sklearn-color-unfitted-level-2);\n",
       "}\n",
       "\n",
       "/* Label box, darken color on hover, fitted */\n",
       "#sk-container-id-4 div.sk-label.fitted:hover label.sk-toggleable__label.fitted {\n",
       "  color: var(--sklearn-color-text);\n",
       "  background-color: var(--sklearn-color-fitted-level-2);\n",
       "}\n",
       "\n",
       "/* Estimator label */\n",
       "\n",
       "#sk-container-id-4 div.sk-label label {\n",
       "  font-family: monospace;\n",
       "  font-weight: bold;\n",
       "  display: inline-block;\n",
       "  line-height: 1.2em;\n",
       "}\n",
       "\n",
       "#sk-container-id-4 div.sk-label-container {\n",
       "  text-align: center;\n",
       "}\n",
       "\n",
       "/* Estimator-specific */\n",
       "#sk-container-id-4 div.sk-estimator {\n",
       "  font-family: monospace;\n",
       "  border: 1px dotted var(--sklearn-color-border-box);\n",
       "  border-radius: 0.25em;\n",
       "  box-sizing: border-box;\n",
       "  margin-bottom: 0.5em;\n",
       "  /* unfitted */\n",
       "  background-color: var(--sklearn-color-unfitted-level-0);\n",
       "}\n",
       "\n",
       "#sk-container-id-4 div.sk-estimator.fitted {\n",
       "  /* fitted */\n",
       "  background-color: var(--sklearn-color-fitted-level-0);\n",
       "}\n",
       "\n",
       "/* on hover */\n",
       "#sk-container-id-4 div.sk-estimator:hover {\n",
       "  /* unfitted */\n",
       "  background-color: var(--sklearn-color-unfitted-level-2);\n",
       "}\n",
       "\n",
       "#sk-container-id-4 div.sk-estimator.fitted:hover {\n",
       "  /* fitted */\n",
       "  background-color: var(--sklearn-color-fitted-level-2);\n",
       "}\n",
       "\n",
       "/* Specification for estimator info (e.g. \"i\" and \"?\") */\n",
       "\n",
       "/* Common style for \"i\" and \"?\" */\n",
       "\n",
       ".sk-estimator-doc-link,\n",
       "a:link.sk-estimator-doc-link,\n",
       "a:visited.sk-estimator-doc-link {\n",
       "  float: right;\n",
       "  font-size: smaller;\n",
       "  line-height: 1em;\n",
       "  font-family: monospace;\n",
       "  background-color: var(--sklearn-color-background);\n",
       "  border-radius: 1em;\n",
       "  height: 1em;\n",
       "  width: 1em;\n",
       "  text-decoration: none !important;\n",
       "  margin-left: 1ex;\n",
       "  /* unfitted */\n",
       "  border: var(--sklearn-color-unfitted-level-1) 1pt solid;\n",
       "  color: var(--sklearn-color-unfitted-level-1);\n",
       "}\n",
       "\n",
       ".sk-estimator-doc-link.fitted,\n",
       "a:link.sk-estimator-doc-link.fitted,\n",
       "a:visited.sk-estimator-doc-link.fitted {\n",
       "  /* fitted */\n",
       "  border: var(--sklearn-color-fitted-level-1) 1pt solid;\n",
       "  color: var(--sklearn-color-fitted-level-1);\n",
       "}\n",
       "\n",
       "/* On hover */\n",
       "div.sk-estimator:hover .sk-estimator-doc-link:hover,\n",
       ".sk-estimator-doc-link:hover,\n",
       "div.sk-label-container:hover .sk-estimator-doc-link:hover,\n",
       ".sk-estimator-doc-link:hover {\n",
       "  /* unfitted */\n",
       "  background-color: var(--sklearn-color-unfitted-level-3);\n",
       "  color: var(--sklearn-color-background);\n",
       "  text-decoration: none;\n",
       "}\n",
       "\n",
       "div.sk-estimator.fitted:hover .sk-estimator-doc-link.fitted:hover,\n",
       ".sk-estimator-doc-link.fitted:hover,\n",
       "div.sk-label-container:hover .sk-estimator-doc-link.fitted:hover,\n",
       ".sk-estimator-doc-link.fitted:hover {\n",
       "  /* fitted */\n",
       "  background-color: var(--sklearn-color-fitted-level-3);\n",
       "  color: var(--sklearn-color-background);\n",
       "  text-decoration: none;\n",
       "}\n",
       "\n",
       "/* Span, style for the box shown on hovering the info icon */\n",
       ".sk-estimator-doc-link span {\n",
       "  display: none;\n",
       "  z-index: 9999;\n",
       "  position: relative;\n",
       "  font-weight: normal;\n",
       "  right: .2ex;\n",
       "  padding: .5ex;\n",
       "  margin: .5ex;\n",
       "  width: min-content;\n",
       "  min-width: 20ex;\n",
       "  max-width: 50ex;\n",
       "  color: var(--sklearn-color-text);\n",
       "  box-shadow: 2pt 2pt 4pt #999;\n",
       "  /* unfitted */\n",
       "  background: var(--sklearn-color-unfitted-level-0);\n",
       "  border: .5pt solid var(--sklearn-color-unfitted-level-3);\n",
       "}\n",
       "\n",
       ".sk-estimator-doc-link.fitted span {\n",
       "  /* fitted */\n",
       "  background: var(--sklearn-color-fitted-level-0);\n",
       "  border: var(--sklearn-color-fitted-level-3);\n",
       "}\n",
       "\n",
       ".sk-estimator-doc-link:hover span {\n",
       "  display: block;\n",
       "}\n",
       "\n",
       "/* \"?\"-specific style due to the `<a>` HTML tag */\n",
       "\n",
       "#sk-container-id-4 a.estimator_doc_link {\n",
       "  float: right;\n",
       "  font-size: 1rem;\n",
       "  line-height: 1em;\n",
       "  font-family: monospace;\n",
       "  background-color: var(--sklearn-color-background);\n",
       "  border-radius: 1rem;\n",
       "  height: 1rem;\n",
       "  width: 1rem;\n",
       "  text-decoration: none;\n",
       "  /* unfitted */\n",
       "  color: var(--sklearn-color-unfitted-level-1);\n",
       "  border: var(--sklearn-color-unfitted-level-1) 1pt solid;\n",
       "}\n",
       "\n",
       "#sk-container-id-4 a.estimator_doc_link.fitted {\n",
       "  /* fitted */\n",
       "  border: var(--sklearn-color-fitted-level-1) 1pt solid;\n",
       "  color: var(--sklearn-color-fitted-level-1);\n",
       "}\n",
       "\n",
       "/* On hover */\n",
       "#sk-container-id-4 a.estimator_doc_link:hover {\n",
       "  /* unfitted */\n",
       "  background-color: var(--sklearn-color-unfitted-level-3);\n",
       "  color: var(--sklearn-color-background);\n",
       "  text-decoration: none;\n",
       "}\n",
       "\n",
       "#sk-container-id-4 a.estimator_doc_link.fitted:hover {\n",
       "  /* fitted */\n",
       "  background-color: var(--sklearn-color-fitted-level-3);\n",
       "}\n",
       "</style><div id=\"sk-container-id-4\" class=\"sk-top-container\"><div class=\"sk-text-repr-fallback\"><pre>LinearRegression()</pre><b>In a Jupyter environment, please rerun this cell to show the HTML representation or trust the notebook. <br />On GitHub, the HTML representation is unable to render, please try loading this page with nbviewer.org.</b></div><div class=\"sk-container\" hidden><div class=\"sk-item\"><div class=\"sk-estimator fitted sk-toggleable\"><input class=\"sk-toggleable__control sk-hidden--visually\" id=\"sk-estimator-id-4\" type=\"checkbox\" checked><label for=\"sk-estimator-id-4\" class=\"sk-toggleable__label fitted sk-toggleable__label-arrow fitted\">&nbsp;&nbsp;LinearRegression<a class=\"sk-estimator-doc-link fitted\" rel=\"noreferrer\" target=\"_blank\" href=\"https://scikit-learn.org/1.5/modules/generated/sklearn.linear_model.LinearRegression.html\">?<span>Documentation for LinearRegression</span></a><span class=\"sk-estimator-doc-link fitted\">i<span>Fitted</span></span></label><div class=\"sk-toggleable__content fitted\"><pre>LinearRegression()</pre></div> </div></div></div></div>"
      ],
      "text/plain": [
       "LinearRegression()"
      ]
     },
     "execution_count": 39,
     "metadata": {},
     "output_type": "execute_result"
    }
   ],
   "source": [
    "# Creating and training the Linear Regression Model\n",
    "\n",
    "model = LinearRegression()  \n",
    "model.fit(X_train_scaled, y_train_scaled) "
   ]
  },
  {
   "cell_type": "code",
   "execution_count": 46,
   "id": "9c4f3838-5d4e-4324-a3da-1513e71683ce",
   "metadata": {},
   "outputs": [
    {
     "data": {
      "text/plain": [
       "(array([[0.18957979]]), array([1.00369367e-16]))"
      ]
     },
     "execution_count": 46,
     "metadata": {},
     "output_type": "execute_result"
    }
   ],
   "source": [
    "# finding co-efficients and intercept\n",
    "model.coef_, model.intercept_"
   ]
  },
  {
   "cell_type": "code",
   "execution_count": 54,
   "id": "610cad8d-efa2-4dfb-a8f9-5f4a9ad50993",
   "metadata": {},
   "outputs": [
    {
     "name": "stdout",
     "output_type": "stream",
     "text": [
      "yearly_income = [1.00369367e-16] + [0.18957979] * Age\n"
     ]
    }
   ],
   "source": [
    "# Generating the equation\n",
    "print(f'yearly_income = {model.intercept_} + {model.coef_[0]} * Age')\n"
   ]
  },
  {
   "cell_type": "code",
   "execution_count": 40,
   "id": "6be6d036-be0f-4ba7-ae99-1a99bc810237",
   "metadata": {},
   "outputs": [
    {
     "data": {
      "text/plain": [
       "(np.float64(-0.15954361210958123), np.float64(1.6165611749072577))"
      ]
     },
     "execution_count": 40,
     "metadata": {},
     "output_type": "execute_result"
    }
   ],
   "source": [
    "# Make predictions\n",
    "y_pred_train_scaled = model.predict(X_train_scaled)  \n",
    "y_pred_test_scaled = model.predict(X_test_scaled)  \n",
    "\n",
    "y_pred_train_scaled.min(), y_pred_train_scaled.max()"
   ]
  },
  {
   "cell_type": "code",
   "execution_count": 41,
   "id": "6537f627-802d-493c-9987-adaa9454a027",
   "metadata": {},
   "outputs": [
    {
     "data": {
      "text/plain": [
       "(np.float64(39.392165503154416), np.float64(64.6650237215368))"
      ]
     },
     "execution_count": 41,
     "metadata": {},
     "output_type": "execute_result"
    }
   ],
   "source": [
    "# Inverse Transform the Predictions  \n",
    "y_pred_train = y_scaler.inverse_transform(y_pred_train_scaled.reshape(-1, 1)).flatten()  \n",
    "y_pred_test = y_scaler.inverse_transform(y_pred_test_scaled.reshape(-1, 1)).flatten()  \n",
    "\n",
    "y_pred_train.min(), y_pred_train.max()"
   ]
  },
  {
   "cell_type": "markdown",
   "id": "3d9531af-3dc2-45de-af01-ec6f21c0ff73",
   "metadata": {},
   "source": [
    "## Part (d) and (e)"
   ]
  },
  {
   "cell_type": "markdown",
   "id": "001a81a2-c4df-4a4b-953f-f6962a58b03e",
   "metadata": {},
   "source": [
    "### Compute the Mean Absolute Error (MSE) from your model.\n",
    "### Extract and interprete the key outputs from a linear regression model"
   ]
  },
  {
   "cell_type": "code",
   "execution_count": 42,
   "id": "d53f88ae-d3d2-4a93-b692-8fcf52647020",
   "metadata": {},
   "outputs": [
    {
     "name": "stdout",
     "output_type": "stream",
     "text": [
      "Training Mean Squared Error: 195.19801295994296\n",
      "Training R² Score: 0.035940496726002746\n",
      "\n",
      "Testing Mean Squared Error: 203.995403635444\n",
      "Testing R² Score: 0.03126863692267168\n"
     ]
    }
   ],
   "source": [
    "# Evaluate the Model, and Plot   \n",
    "\n",
    "mse_train = mean_squared_error(y_train, y_pred_train)  \n",
    "mse_test = mean_squared_error(y_test, y_pred_test)  \n",
    "r2_train = r2_score(y_train, y_pred_train)  \n",
    "r2_test = r2_score(y_test, y_pred_test)  \n",
    "\n",
    "print(\"Training Mean Squared Error:\", mse_train)  \n",
    "print(\"Training R² Score:\", r2_train)  \n",
    "print()\n",
    "print(\"Testing Mean Squared Error:\", mse_test)  \n",
    "print(\"Testing R² Score:\", r2_test) "
   ]
  },
  {
   "cell_type": "markdown",
   "id": "fe8adb83-d4c7-4990-83d2-24b16ad50a6c",
   "metadata": {},
   "source": [
    "## Part (f)"
   ]
  },
  {
   "cell_type": "markdown",
   "id": "3befb880-7a64-4c9c-ad77-138d8ba9a397",
   "metadata": {},
   "source": [
    "### Plot the linear regression model"
   ]
  },
  {
   "cell_type": "code",
   "execution_count": 43,
   "id": "60f10edb-6313-42f2-9a32-6796020d4dad",
   "metadata": {},
   "outputs": [
    {
     "data": {
      "image/png": "[encoded data removed]",
      "text/plain": [
       "<Figure size 1200x600 with 1 Axes>"
      ]
     },
     "metadata": {},
     "output_type": "display_data"
    }
   ],
   "source": [
    "# Plotting the Train and Test Data with the Linear Regression Line  \n",
    "\n",
    "plt.figure(figsize=(12, 6))  \n",
    "\n",
    "# Scatter Plot for Training and Testing Data  \n",
    "plt.scatter(X_train, y_train, color='blue', label='Training Data', alpha=0.7)   \n",
    "plt.scatter(X_test, y_test, color='orange', label='Testing Data', alpha=0.7)  \n",
    "\n",
    "# Plotting the regression line  \n",
    "X_line = np.linspace(X_train.min(), X_train.max(), 100).reshape(-1, 1)  \n",
    "X_line_scaled = X_scaler.transform(X_line)  # Scale the line input  \n",
    "y_line_scaled = model.predict(X_line_scaled)  # Predict the output  \n",
    "y_line = y_scaler.inverse_transform(y_line_scaled.reshape(-1, 1)).flatten()  # Inverse transform to original scale  \n",
    "\n",
    "plt.plot(X_line, y_line, color='red', label='Regression Line', linewidth=2)  \n",
    "\n",
    "# Add titles and labels  \n",
    "plt.title('Linear Regression with StandardScaler on Features and Target Variable')  \n",
    "plt.xlabel('Engine Size')  \n",
    "plt.ylabel('Price')  \n",
    "plt.legend()  \n",
    "plt.grid()  \n",
    "plt.show()  "
   ]
  },
  {
   "cell_type": "code",
   "execution_count": null,
   "id": "a42621bf-3c7c-4473-85a0-2250887ac188",
   "metadata": {},
   "outputs": [],
   "source": []
  },
  {
   "cell_type": "code",
   "execution_count": null,
   "id": "ec7f567a-28dd-4fa1-b33e-24458e4ad285",
   "metadata": {},
   "outputs": [],
   "source": []
  },
  {
   "cell_type": "markdown",
   "id": "0d2ab0c5-8b3f-433e-899c-950b305b4d37",
   "metadata": {},
   "source": [
    "# No.4 (Bonus question)"
   ]
  },
  {
   "cell_type": "markdown",
   "id": "48bc1005-de63-46fe-9975-d79d94347d9f",
   "metadata": {},
   "source": [
    "## Part (a)"
   ]
  },
  {
   "cell_type": "markdown",
   "id": "016bbf72-0b97-4b5d-9a98-bc9449ee4d5c",
   "metadata": {},
   "source": [
    "###  Multiply a 5x3 matrix by a 3x2 matrix (real matrix product) \n",
    "(Hint: create a 5x3 and 3x2 matrices and peform matrix multiplication)."
   ]
  },
  {
   "cell_type": "code",
   "execution_count": 9,
   "id": "bfd55f29-d085-4f64-ba0b-b7d7742d363c",
   "metadata": {},
   "outputs": [],
   "source": [
    "import numpy as np # importing numpy library"
   ]
  },
  {
   "cell_type": "code",
   "execution_count": 10,
   "id": "ebb3d741-8024-4460-ba60-68eafe2f61e3",
   "metadata": {},
   "outputs": [
    {
     "name": "stdout",
     "output_type": "stream",
     "text": [
      "[[1 2 4]\n",
      " [3 4 1]\n",
      " [5 6 2]\n",
      " [7 8 1]\n",
      " [3 4 1]]\n"
     ]
    }
   ],
   "source": [
    "# Ceating a 5x3 matrix\n",
    "x=np.array([[1, 2,4], [3, 4,1], [5, 6,2], [7, 8, 1], [3, 4,1]])\n",
    "print(x)"
   ]
  },
  {
   "cell_type": "code",
   "execution_count": 11,
   "id": "b358f4c9-9c23-4bf6-99af-b4b0649ec150",
   "metadata": {},
   "outputs": [
    {
     "data": {
      "text/plain": [
       "array([[3, 4],\n",
       "       [5, 6],\n",
       "       [7, 8]])"
      ]
     },
     "execution_count": 11,
     "metadata": {},
     "output_type": "execute_result"
    }
   ],
   "source": [
    "# Creating a 3x2 matrix\n",
    "y=np.array([[3, 4], [5, 6], [7, 8]])\n",
    "y"
   ]
  },
  {
   "cell_type": "code",
   "execution_count": 12,
   "id": "6f21d7f2-d16a-4a77-a4a8-36a16c76ebf6",
   "metadata": {},
   "outputs": [
    {
     "data": {
      "text/plain": [
       "array([[41, 48],\n",
       "       [36, 44],\n",
       "       [59, 72],\n",
       "       [68, 84],\n",
       "       [36, 44]])"
      ]
     },
     "execution_count": 12,
     "metadata": {},
     "output_type": "execute_result"
    }
   ],
   "source": [
    "# Multiplying x and y\n",
    "product = x.dot(y)\n",
    "product"
   ]
  },
  {
   "cell_type": "markdown",
   "id": "b862a6d5-78e9-4946-98da-17d84b80c056",
   "metadata": {},
   "source": [
    "## Part (b)"
   ]
  },
  {
   "cell_type": "markdown",
   "id": "a732056d-8702-4f41-a666-1d078fe37263",
   "metadata": {},
   "source": [
    "###  Create a 3x3 identity matrix"
   ]
  },
  {
   "cell_type": "code",
   "execution_count": 13,
   "id": "bcd10e88-08c7-43fa-9a0a-eda34e46f430",
   "metadata": {},
   "outputs": [
    {
     "name": "stdout",
     "output_type": "stream",
     "text": [
      "[[1. 0. 0.]\n",
      " [0. 1. 0.]\n",
      " [0. 0. 1.]]\n"
     ]
    }
   ],
   "source": [
    "# Source: Stack overflow (https://stackoverflow.com/questions/46029017/whats-the-best-way-to-create-a-3d-identity-matrix-in-numpy)\n",
    "\n",
    "identity_matrix = np.identity(3)  #Creating an identity matrix\n",
    "print(identity_matrix)"
   ]
  },
  {
   "cell_type": "markdown",
   "id": "00e3c42b-2fc4-45e5-9674-795f84d9e303",
   "metadata": {},
   "source": [
    "## Part(c)"
   ]
  },
  {
   "cell_type": "markdown",
   "id": "458a3400-e442-48de-a476-48ab0e89235b",
   "metadata": {},
   "source": [
    "###  Create a vector with values ranging from 10 to 49"
   ]
  },
  {
   "cell_type": "code",
   "execution_count": 14,
   "id": "1ed8f484-6fba-4481-9f5c-6af7d4ca42f9",
   "metadata": {},
   "outputs": [
    {
     "name": "stdout",
     "output_type": "stream",
     "text": [
      "[ 1  2  3  4  5  6  7  8  9 10 11 12 13 14 15 16 17 18 19 20 21 22 23 24\n",
      " 25 26 27 28 29 30 31 32 33 34 35 36 37 38 39 40 41 42 43 44 45 46 47 48\n",
      " 49]\n"
     ]
    }
   ],
   "source": [
    "# Source: Stack overflow (https://stackoverflow.com/questions/58526984/how-to-create-numpy-array-with-values-in-specific-range)\n",
    "vector = np.arange(1, 50) # Creating a vector\n",
    "print(vector) #displaying the vector"
   ]
  },
  {
   "cell_type": "markdown",
   "id": "172f3c05-f3cd-4b45-a427-f1c57cbfb1b1",
   "metadata": {},
   "source": [
    "## Part (d)"
   ]
  },
  {
   "cell_type": "markdown",
   "id": "5dea9d88-b70b-476e-bc7f-f42208a74b50",
   "metadata": {},
   "source": [
    "### Create a null vector of size 10"
   ]
  },
  {
   "cell_type": "code",
   "execution_count": 15,
   "id": "6b113a01-f255-4d5c-9df7-b89fee147615",
   "metadata": {},
   "outputs": [
    {
     "name": "stdout",
     "output_type": "stream",
     "text": [
      "[0. 0. 0. 0. 0. 0. 0. 0. 0. 0.]\n"
     ]
    }
   ],
   "source": [
    "# Source: stack overflow (https://stackoverflow.com/questions/21295261/how-to-create-in-one-line-a-null-vector-of-size-10-but-the-fifth-value-being-1-u)\n",
    "\n",
    "null_vector = np.zeros(10) # Creating a null vector using numpy library\n",
    "print(null_vector)"
   ]
  },
  {
   "cell_type": "markdown",
   "id": "110571dc-50ae-4e28-ab98-e2213c86e8e5",
   "metadata": {},
   "source": [
    "## Part (e)"
   ]
  },
  {
   "cell_type": "markdown",
   "id": "4be385c5-1fb7-4c32-ae1e-e94b578f4ea7",
   "metadata": {},
   "source": [
    "### Create a 3x3x3 array with random values"
   ]
  },
  {
   "cell_type": "code",
   "execution_count": 16,
   "id": "0d9a0bd8-afe3-4410-a067-e8bf26c812ee",
   "metadata": {},
   "outputs": [
    {
     "name": "stdout",
     "output_type": "stream",
     "text": [
      "[[[0.83992059 0.15516972 0.85614674]\n",
      "  [0.48183644 0.4227735  0.19542921]\n",
      "  [0.36389093 0.47164171 0.9133134 ]]\n",
      "\n",
      " [[0.92933609 0.77823678 0.36516849]\n",
      "  [0.1257196  0.99527023 0.88538972]\n",
      "  [0.04064726 0.7091463  0.80232359]]\n",
      "\n",
      " [[0.46714727 0.56424335 0.08205064]\n",
      "  [0.28397365 0.93534638 0.46421402]\n",
      "  [0.94624524 0.57887384 0.39006553]]]\n"
     ]
    }
   ],
   "source": [
    "# Source 1: Into to Numpy\n",
    "# Source 2: https://stackoverflow.com/questions/22981845/3-dimensional-array-in-numpy\n",
    "# Source 3: we learnt random from madam Brenda\n",
    "\n",
    "a_3D_matrix = np.random.rand(3, 3, 3) # Creating the 3 dimension matrix\n",
    "print(a_3D_matrix)"
   ]
  },
  {
   "cell_type": "markdown",
   "id": "36355c0c-488a-41ec-b0f5-6a42f3ee1f03",
   "metadata": {},
   "source": [
    "## Part (f)"
   ]
  },
  {
   "cell_type": "markdown",
   "id": "476ff162-e4bc-4ce8-b611-30c463843ded",
   "metadata": {},
   "source": [
    "###  Create a 5x5 matrix with values 1,2,3,4 just below the diagonal"
   ]
  },
  {
   "cell_type": "code",
   "execution_count": 21,
   "id": "f102648b-cc55-4f79-b9eb-591e901f0be8",
   "metadata": {},
   "outputs": [
    {
     "name": "stdout",
     "output_type": "stream",
     "text": [
      "[[0. 0. 0. 0. 0.]\n",
      " [0. 0. 0. 0. 0.]\n",
      " [0. 0. 0. 0. 0.]\n",
      " [0. 0. 0. 0. 0.]\n",
      " [0. 0. 0. 0. 0.]]\n"
     ]
    }
   ],
   "source": [
    "# Source: stack overflow (https://stackoverflow.com/questions/57811604/explanation-of-fill-diagonal-syntax)\n",
    "\n",
    "matrix_n = np.zeros((5, 5))# Creating 5x5 zero matrix \n",
    "print(matrix)"
   ]
  },
  {
   "cell_type": "code",
   "execution_count": 22,
   "id": "e834e1c2-ff50-4e24-b364-e024e0e29cf3",
   "metadata": {},
   "outputs": [
    {
     "name": "stdout",
     "output_type": "stream",
     "text": [
      "[[0. 0. 0. 0. 0.]\n",
      " [1. 0. 0. 0. 0.]\n",
      " [0. 2. 0. 0. 0.]\n",
      " [0. 0. 3. 0. 0.]\n",
      " [0. 0. 0. 4. 0.]]\n"
     ]
    }
   ],
   "source": [
    "# Filling values just below the diagonal\n",
    "np.fill_diagonal(matrix_n[1:], [1, 2, 3, 4])  \n",
    "print(matrix_n)"
   ]
  },
  {
   "cell_type": "markdown",
   "id": "e105fcc4-706b-4e24-8ca4-f7f6bba7382b",
   "metadata": {},
   "source": [
    "## Part (g)"
   ]
  },
  {
   "cell_type": "markdown",
   "id": "ffc06c0e-1dcd-42c3-8c73-34abc5f33420",
   "metadata": {},
   "source": [
    "###  Normalize a 5x5 random matrix"
   ]
  },
  {
   "cell_type": "code",
   "execution_count": 23,
   "id": "3a75dcf4-eb8b-4b90-93fa-429b84143f99",
   "metadata": {},
   "outputs": [
    {
     "name": "stdout",
     "output_type": "stream",
     "text": [
      "[[0.   0.   0.   0.   0.  ]\n",
      " [0.25 0.   0.   0.   0.  ]\n",
      " [0.   0.5  0.   0.   0.  ]\n",
      " [0.   0.   0.75 0.   0.  ]\n",
      " [0.   0.   0.   1.   0.  ]]\n"
     ]
    }
   ],
   "source": [
    "# using the formula of normalistion: (matrix - minimum of the matrix) divide by (maximum of the matrix - minimum of the matrix) \n",
    "\n",
    "normalized_matrix = (matrix_n - np.min(matrix_n)) / (np.max(matrix_n) - np.min(matrix_n)) # normalizing the matrix\n",
    "print(normalized_matrix)"
   ]
  },
  {
   "cell_type": "markdown",
   "id": "44dd3394-04c7-435c-8374-d62aeecc3873",
   "metadata": {},
   "source": [
    "## Part (h)"
   ]
  },
  {
   "cell_type": "markdown",
   "id": "6349f9ec-8aba-49d2-b821-ef36cc2d630c",
   "metadata": {},
   "source": [
    "###  How to get the dates of yesterday, today and tomorrow?"
   ]
  },
  {
   "cell_type": "code",
   "execution_count": 24,
   "id": "09d8c6c1-f004-4696-a8c1-068bd15bb136",
   "metadata": {},
   "outputs": [
    {
     "name": "stdout",
     "output_type": "stream",
     "text": [
      "Yesterday: 2024-12-12\n",
      "Today: 2024-12-13\n",
      "Tomorrow: 2024-12-14\n"
     ]
    }
   ],
   "source": [
    "# finding the date using datetime64 library in numpy\n",
    "\n",
    "today = np.datetime64('today', 'D')\n",
    "yesterday = today - np.timedelta64(1, 'D')\n",
    "tomorrow = today + np.timedelta64(1, 'D')\n",
    "print(\"Yesterday:\", yesterday)\n",
    "print(\"Today:\", today)\n",
    "print(\"Tomorrow:\", tomorrow)"
   ]
  },
  {
   "cell_type": "markdown",
   "id": "d4c0d503-8d6b-45df-a984-d4ce72473d8d",
   "metadata": {},
   "source": [
    "## Part (i)"
   ]
  },
  {
   "cell_type": "markdown",
   "id": "f30abdcd-8a49-48e5-a950-6dcf055ab7c5",
   "metadata": {},
   "source": [
    "###  Find indices of non-zero elements from [1,2,0,0,4,0]. In all the above questions explain your approach."
   ]
  },
  {
   "cell_type": "code",
   "execution_count": 25,
   "id": "84c62815-d3d7-4d1e-a93e-e74ab727437f",
   "metadata": {},
   "outputs": [
    {
     "name": "stdout",
     "output_type": "stream",
     "text": [
      "[0 1 4]\n"
     ]
    }
   ],
   "source": [
    "p = np.array([1, 2, 0, 0, 4, 0])\n",
    "non_zero_indices = np.nonzero(p)[0]\n",
    "print(non_zero_indices)"
   ]
  },
  {
   "cell_type": "code",
   "execution_count": null,
   "id": "d241ad2e-a9c2-4618-95b3-acbcc9c60656",
   "metadata": {},
   "outputs": [],
   "source": []
  }
 ],
 "metadata": {
  "kernelspec": {
   "display_name": "Python 3 (ipykernel)",
   "language": "python",
   "name": "python3"
  },
  "language_info": {
   "codemirror_mode": {
    "name": "ipython",
    "version": 3
   },
   "file_extension": ".py",
   "mimetype": "text/x-python",
   "name": "python",
   "nbconvert_exporter": "python",
   "pygments_lexer": "ipython3",
   "version": "3.12.5"
  }
 },
 "nbformat": 4,
 "nbformat_minor": 5
}
